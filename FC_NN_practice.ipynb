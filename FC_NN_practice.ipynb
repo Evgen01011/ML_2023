{
  "cells": [
    {
      "cell_type": "markdown",
      "metadata": {
        "id": "view-in-github"
      },
      "source": [
        "<a href=\"https://colab.research.google.com/github/danon6868/BI-ml-course/blob/main/lecture_8_neural_networks_part2/homework/FC_NN_practice.ipynb\" target=\"_parent\"><img src=\"https://colab.research.google.com/assets/colab-badge.svg\" alt=\"Open In Colab\"/></a>"
      ]
    },
    {
      "cell_type": "markdown",
      "metadata": {
        "id": "-pSGPQS8Btmc"
      },
      "source": [
        "Всем привет! Сегодня вы впервые попробуете написать свою собственную нейронную сеть и попробовать ее обучить. Мы будем работать с картинками, но пока что не совсем тем способом, которым лучше всего это делать, но должно получиться неплохо.\n",
        "\n",
        "Будем работать с [датасетом](https://github.com/rois-codh/kmnist) `Kuzushiji-MNIST` (`KMNIST`). Это рукописные буквы, изображения имеют размер (28, 28, 1) и разделены на 10 классов, по ссылке можно прочитать подробнее."
      ]
    },
    {
      "cell_type": "code",
      "execution_count": null,
      "metadata": {
        "id": "75HVAP_RFU7r"
      },
      "outputs": [],
      "source": [
        "import numpy as np\n",
        "import torch\n",
        "import matplotlib.pyplot as plt\n",
        "from IPython.display import clear_output"
      ]
    },
    {
      "cell_type": "markdown",
      "metadata": {
        "id": "46iQ8ixtEruP"
      },
      "source": [
        "## Загрузка данных"
      ]
    },
    {
      "cell_type": "markdown",
      "metadata": {
        "id": "R6h1jVreJlV-"
      },
      "source": [
        "Сейчас мы будем использовать встроенные данные, но в реальности приходится писать свой класс для датасета (Dataset), у которого реализовывать несколько обязательных методов (напр, `__getitem__`), но это обсудим уже потом."
      ]
    },
    {
      "cell_type": "code",
      "execution_count": null,
      "metadata": {
        "id": "s9L9Z02o_1bK"
      },
      "outputs": [],
      "source": [
        "import torchvision\n",
        "from torchvision.datasets import KMNIST\n",
        "\n",
        "\n",
        "# Превращает картинки в тензоры\n",
        "transform = torchvision.transforms.Compose(\n",
        "    [torchvision.transforms.ToTensor()])\n",
        "\n",
        "# Загрузим данные (в переменных лежат объекты типа `Dataset`)\n",
        "# В аргумент `transform` мы передаем необходимые трансформации (ToTensor)\n",
        "trainset = KMNIST(root=\"./KMNIST\", train=True, download=True, transform=transform)\n",
        "testset = KMNIST(root=\"./KMNIST\", train=False, download=True, transform=transform)\n",
        "\n",
        "clear_output()"
      ]
    },
    {
      "cell_type": "markdown",
      "metadata": {
        "id": "V83E2vDrO9CC"
      },
      "source": [
        "Определим даталоадеры, они нужны, чтобы реализовывать стохастический градиентный спуск (то есть мы не хотим считывать в оперативную память все картинки сразу, а делать это батчами)."
      ]
    },
    {
      "cell_type": "code",
      "execution_count": null,
      "metadata": {
        "id": "oqC8XO8pO8Px"
      },
      "outputs": [],
      "source": [
        "from torch.utils.data import DataLoader\n",
        "\n",
        "\n",
        "# Можно оставить таким\n",
        "batch_size = 256\n",
        "\n",
        "trainloader = DataLoader(trainset, batch_size=batch_size, shuffle=True, num_workers=2)\n",
        "testloader = DataLoader(testset, batch_size=batch_size, shuffle=False, num_workers=2)"
      ]
    },
    {
      "cell_type": "markdown",
      "metadata": {
        "id": "-Ntp5sLoPyGx"
      },
      "source": [
        "Подумайте, как может влиять на скорость обучения параметр `batch_size`, почему вы так считаете?\n",
        "\n",
        "**Ответ:**\n",
        "Чем больше картинок в батче, тем менее стохастическими будут наши движения в сторону минимума, и на полном датасете они будут представлять собой полностью направленные \"движения\" к минимуму"
      ]
    },
    {
      "cell_type": "markdown",
      "metadata": {
        "id": "t2vmM4KaHvrs"
      },
      "source": [
        "Посмотрим на какую-нибудь картинку:"
      ]
    },
    {
      "cell_type": "code",
      "execution_count": null,
      "metadata": {
        "colab": {
          "base_uri": "https://localhost:8080/",
          "height": 430
        },
        "id": "N-b-kFCYAoOP",
        "outputId": "da32a17a-dea4-4233-8d36-125925cc9c4e"
      },
      "outputs": [
        {
          "output_type": "display_data",
          "data": {
            "text/plain": [
              "<Figure size 640x480 with 1 Axes>"
            ],
            "image/png": "[encoded data removed]"
          },
          "metadata": {}
        }
      ],
      "source": [
        "plt.imshow(trainset[9][0].view(28, 28).numpy(), cmap=\"gray\")\n",
        "plt.axis(\"off\")\n",
        "plt.title(f\"Class is {trainset[0][1]}\", fontsize=16);"
      ]
    },
    {
      "cell_type": "markdown",
      "metadata": {
        "id": "8_MSY231Hzz9"
      },
      "source": [
        "### Задание 1. Смотрим на картинки\n",
        "\n",
        "**2** балла\n",
        "\n",
        "Нарисуйте на одном графике изображения всех 10 классов:"
      ]
    },
    {
      "cell_type": "markdown",
      "metadata": {
        "id": "j0tNdHM5JS6l"
      },
      "source": [
        "⣿⣿⣿⣿⣿⣿⠿⢋⣥⣴⣶⣶⣶⣬⣙⠻⠟⣋⣭⣭⣭⣭⡙⠻⣿⣿⣿⣿⣿\n",
        "⣿⣿⣿⣿⡿⢋⣴⣿⣿⠿⢟⣛⣛⣛⠿⢷⡹⣿⣿⣿⣿⣿⣿⣆⠹⣿⣿⣿⣿\n",
        "⣿⣿⣿⡿⢁⣾⣿⣿⣴⣿⣿⣿⣿⠿⠿⠷⠥⠱⣶⣶⣶⣶⡶⠮⠤⣌⡙⢿⣿\n",
        "⣿⡿⢛⡁⣾⣿⣿⣿⡿⢟⡫⢕⣪⡭⠥⢭⣭⣉⡂⣉⡒⣤⡭⡉⠩⣥⣰⠂⠹\n",
        "⡟⢠⣿⣱⣿⣿⣿⣏⣛⢲⣾⣿⠃⠄⠐⠈⣿⣿⣿⣿⣿⣿⠄⠁⠃⢸⣿⣿⡧\n",
        "⢠⣿⣿⣿⣿⣿⣿⣿⣿⣇⣊⠙⠳⠤⠤⠾⣟⠛⠍⣹⣛⣛⣢⣀⣠⣛⡯⢉⣰\n",
        "⣿⣿⣿⣿⣿⣿⣿⣿⣿⣿⣿⣿⣷⡶⠶⢒⣠⣼⣿⣿⣛⠻⠛⢛⣛⠉⣴⣿⣿\n",
        "⣿⣿⣿⣿⣿⣿⣿⡿⢛⡛⢿⣿⣿⣶⣿⣿⣿⣿⣿⣿⣿⣿⣿⣿⣿⣷⡈⢿⣿\n",
        "⣿⣿⣿⣿⣿⣿⣿⠸⣿⡻⢷⣍⣛⠻⠿⠿⣿⣿⣿⣿⣿⣿⣿⣿⣿⠿⢇⡘⣿\n",
        "⣿⣿⣿⣿⣿⣿⣿⣷⣝⠻⠶⣬⣍⣛⣛⠓⠶⠶⠶⠤⠬⠭⠤⠶⠶⠞⠛⣡⣿\n",
        "⢿⣿⣿⣿⣿⣿⣿⣿⣿⣿⣷⣶⣬⣭⣍⣙⣛⣛⣛⠛⠛⠛⠿⠿⠿⠛⣠⣿⣿\n",
        "⣦⣈⠉⢛⠻⠿⠿⢿⣿⣿⣿⣿⣿⣿⣿⣿⣿⣿⣿⡿⠿⠛⣁⣴⣾⣿⣿⣿⣿\n",
        "⣿⣿⣿⣶⣮⣭⣁⣒⣒⣒⠂⠠⠬⠭⠭⠭⢀⣀⣠⣄⡘⠿⣿⣿⣿⣿⣿⣿⣿\n",
        "⣿⣿⣿⣿⣿⣿⣿⣿⣿⣿⣿⣿⣿⣿⣿⣿⣿⣿⣿⣿⣿⣦⡈⢿⣿⣿⣿⣿⣿\n",
        "\n",
        "\n",
        "\n"
      ]
    },
    {
      "cell_type": "code",
      "execution_count": null,
      "metadata": {
        "id": "x3j6Bsu9AoT6",
        "colab": {
          "base_uri": "https://localhost:8080/",
          "height": 1000
        },
        "outputId": "0229e9b7-d912-4f9b-df1f-fb7089b869a0"
      },
      "outputs": [
        {
          "output_type": "display_data",
          "data": {
            "text/plain": [
              "<Figure size 1500x1500 with 10 Axes>"
            ],
            "image/png": "[encoded data removed]"
          },
          "metadata": {}
        }
      ],
      "source": [
        "k, marker = 0, 0\n",
        "class_number = list(range(10))\n",
        "fig, ax = plt.subplots(5, 2, figsize=(15, 15))\n",
        "for row in range(5):\n",
        "    for col in range(2):\n",
        "      while True:\n",
        "        if trainset[k][1] == marker:\n",
        "          image = trainset[k][0]\n",
        "          ax[row, col].imshow(image.view(28, 28).numpy(), cmap=\"gray\")\n",
        "          ax[row, col].set_title(f\"Class is {trainset[k][1]}\", fontsize=12)\n",
        "          plt.axis(\"off\");\n",
        "          break\n",
        "        k += 1\n",
        "      marker += 1"
      ]
    },
    {
      "cell_type": "markdown",
      "metadata": {
        "id": "dLCfnFW-JtGx"
      },
      "source": [
        "### Задание 2. Строим свой первый MLP\n",
        "\n",
        "**4** балла\n",
        "\n",
        "MLP (multilayer perceptron) или нейронная сеть из полносвязных (линейных) слоев, это мы уже знаем.\n",
        "\n",
        "Опишите структуру сети: 3 полносвязных слоя + функции активации на ваш выбор. **Подумайте** про активацию после последнего слоя!\n",
        "\n",
        "Сеть на выходе 1 слоя должна иметь 256 признаков, на выходе из 2 128 признаков, на выходе из последнего столько, сколько у вас классов.\n",
        " \n",
        "https://pytorch.org/docs/stable/nn.html?highlight=activation#non-linear-activations-weighted-sum-nonlinearity"
      ]
    },
    {
      "cell_type": "code",
      "execution_count": null,
      "metadata": {
        "id": "dhYBvQIXJdSz"
      },
      "outputs": [],
      "source": [
        "import torch.nn as nn\n",
        "\n",
        "class FCNet(nn.Module):\n",
        "    def __init__(self):\n",
        "        super().__init__() #  это надо помнить!\n",
        "        ## YOUR CODE HERE\n",
        "        \n",
        "\n",
        "    def forward(self, x):  # Forward вызывается внутри метода __call__ родительского класса\n",
        "        ## x -> тензор размерности (BATCH_SIZE, N_CHANNELS, WIDTH, HEIGHT)\n",
        "        ## надо подумать над тем, что у нас полносвязные слои принимают векторы\n",
        "\n",
        "        ## YOUR CODE HERE\n",
        "\n",
        "        return logits"
      ]
    },
    {
      "cell_type": "markdown",
      "metadata": {
        "id": "uI0R77EQNKef"
      },
      "source": [
        "Сколько обучаемых параметров у вашей модели (весов и смещений)?\n",
        "\n",
        "**Ответ:**"
      ]
    },
    {
      "cell_type": "code",
      "execution_count": null,
      "metadata": {
        "id": "MvGiuoykrzzJ"
      },
      "outputs": [],
      "source": []
    },
    {
      "cell_type": "markdown",
      "metadata": {
        "id": "iwGllji2M4lp"
      },
      "source": [
        "### Задание 3. Напишите код для обучения модели\n",
        "\n",
        "**5** баллов\n",
        "\n",
        "Можно (и нужно) подглядывать в код семинара по пайторчу. Вам нужно создать модель, определить функцию потерь и оптимизатор (начнем с `SGD`). Дальше нужно обучать модель, при помощи тренировочного `Dataloader'a` и считать лосс на тренировочном и тестовом `Dataloader'ах`."
      ]
    },
    {
      "cell_type": "markdown",
      "metadata": {
        "id": "Grv9xcybRfCX"
      },
      "source": [
        "Напишем функцию для рассчета `accuracy`:"
      ]
    },
    {
      "cell_type": "code",
      "execution_count": null,
      "metadata": {
        "id": "9D2QPFe5JdVc"
      },
      "outputs": [],
      "source": [
        "def get_accuracy(model, dataloader):\n",
        "    \"\"\"\n",
        "    model - обученная нейронная сеть\n",
        "    dataloader - даталоадер, на котором вы хотите посчитать accuracy\n",
        "    \"\"\"\n",
        "    correct = 0\n",
        "    total = 0\n",
        "    with torch.no_grad(): # Тензоры внутри этого блока будут иметь requires_grad=False\n",
        "        for images, labels in dataloader:\n",
        "            outputs = model(images)\n",
        "            _, predicted = torch.max(outputs.data, 1)\n",
        "            total += labels.size(0)\n",
        "            correct += (predicted == labels).sum().item()\n",
        "    accuracy = correct / total\n",
        "    \n",
        "    return accuracy"
      ]
    },
    {
      "cell_type": "markdown",
      "metadata": {
        "id": "D3EmoWJyTBkE"
      },
      "source": [
        "#### Основной цикл обучения\n",
        "\n",
        "Этот код можно (и зачастую нужно) выносить в отдельную функцию, но пока что можете это не делать, все по желанию)"
      ]
    },
    {
      "cell_type": "code",
      "execution_count": null,
      "metadata": {
        "id": "uIZKSOdgUi3e"
      },
      "outputs": [],
      "source": [
        "# Создадим объект модели\n",
        "fc_net = FCNet()\n",
        "# Определим функцию потерь\n",
        "loss_function = nn.CrossEntropyLoss()\n",
        "# Создадим оптимизатор для нашей сети\n",
        "lr = 0.001 # скорость обучения\n",
        "optimizer = torch.optim.Adam(fc_net.parameters(), lr=3e-4)"
      ]
    },
    {
      "cell_type": "markdown",
      "metadata": {
        "id": "uKYzXFqoX_fd"
      },
      "source": [
        "Напишите цикл обучения. Для начала хватит 10 эпох. Какое значение `accuracy` на тестовой выборке удалось получить?"
      ]
    },
    {
      "cell_type": "code",
      "execution_count": null,
      "metadata": {
        "id": "Ma2bshC6MxI6"
      },
      "outputs": [],
      "source": [
        "n_epochs = 10\n",
        "loss_history = []\n",
        "\n",
        "## YOUR CODE HERE\n"
      ]
    },
    {
      "cell_type": "code",
      "execution_count": null,
      "metadata": {
        "id": "2cB5LRbrS3BN"
      },
      "outputs": [],
      "source": [
        "get_accuracy(fc_net, testloader)"
      ]
    },
    {
      "cell_type": "markdown",
      "metadata": {
        "id": "4HTJzBM8Yk1R"
      },
      "source": [
        "### Задание 4. Изучение влияния нормализации\n",
        "\n",
        "**3** балла\n",
        "\n",
        "Вы могли заметить, что мы забыли провести нормализацию наших данных, а для нейронных сетей это может быть очень критично.\n",
        "\n",
        "Нормализуйте данные.\n",
        "\n",
        "* Подсчитайте среднее значение и стандартное отклонение интенсивности пикселей для всех тренировочных данных\n",
        "* Нормализуйте данные с использованием этих параметров (используйте трансформацию `Normalize`)\n",
        "\n",
        "\n",
        "Оцените влияние нормировки данных."
      ]
    },
    {
      "cell_type": "code",
      "execution_count": null,
      "metadata": {
        "id": "FHlDaYWGR6YA"
      },
      "outputs": [],
      "source": [
        "mean = ## calculate mean\n",
        "std = ## calculate std\n",
        "print(mean, std)\n",
        "\n",
        "transform_with_norm = torchvision.transforms.Compose([\n",
        "                torchvision.transforms.ToTensor(),\n",
        "                torchvision.transforms.Normalize(mean, std)\n",
        "            ])\n",
        "\n",
        "trainset.transform = transform_with_norm \n",
        "testset.transform = transform_with_norm"
      ]
    },
    {
      "cell_type": "code",
      "execution_count": null,
      "metadata": {
        "id": "Qj93J3X_R6aa"
      },
      "outputs": [],
      "source": [
        "fc_net = FCNet()\n",
        "loss_function = nn.CrossEntropyLoss()\n",
        "lr = 0.001\n",
        "optimizer = torch.optim.Adam(fc_net.parameters(), lr=3e-4)"
      ]
    },
    {
      "cell_type": "code",
      "execution_count": null,
      "metadata": {
        "id": "VWZtYBCvAoWQ"
      },
      "outputs": [],
      "source": [
        "n_epochs = 10\n",
        "loss_history = []\n",
        "\n",
        "## YOUR CODE HERE\n"
      ]
    },
    {
      "cell_type": "code",
      "execution_count": null,
      "metadata": {
        "id": "Gfbv9OIAAoYT"
      },
      "outputs": [],
      "source": [
        "get_accuracy(fc_net, testloader)"
      ]
    },
    {
      "cell_type": "markdown",
      "metadata": {
        "id": "RcIJvhWkcjlh"
      },
      "source": [
        "Как изменилась `accuracy` после нормализации?"
      ]
    },
    {
      "cell_type": "code",
      "execution_count": null,
      "metadata": {
        "id": "G1LHKF2PsZ4U"
      },
      "outputs": [],
      "source": []
    },
    {
      "cell_type": "markdown",
      "metadata": {
        "id": "atcfzu4acxP2"
      },
      "source": [
        "### Задание 5. Изучение влияния функции активации\n",
        "\n",
        "**3** балла\n",
        "\n",
        "Исследуйте влияние функций активации на скорость обучения и точность предсказаний модели.\n",
        "\n",
        "Используйте три функции:\n",
        "\n",
        "* [Sigmoid](https://pytorch.org/docs/stable/nn.functional.html#sigmoid)\n",
        "* [GELU](https://pytorch.org/docs/stable/nn.functional.html#gelu)\n",
        "* [Tanh](https://pytorch.org/docs/stable/generated/torch.nn.Tanh.html#torch.nn.Tanh)"
      ]
    },
    {
      "cell_type": "code",
      "execution_count": null,
      "metadata": {
        "id": "bAESPpjGa3M1"
      },
      "outputs": [],
      "source": [
        "## YOUR CODE HERE\n"
      ]
    },
    {
      "cell_type": "code",
      "execution_count": null,
      "metadata": {
        "id": "GdvHSFeKa2sW"
      },
      "outputs": [],
      "source": [
        "n_epochs = 10\n",
        "loss_history = []\n",
        "\n",
        "## YOUR CODE HERE\n"
      ]
    },
    {
      "cell_type": "code",
      "execution_count": null,
      "metadata": {
        "id": "zBok8pXNa2vA"
      },
      "outputs": [],
      "source": [
        "get_accuracy(fc_net, testloader)"
      ]
    },
    {
      "cell_type": "markdown",
      "metadata": {
        "id": "aG2Oyxy2egVV"
      },
      "source": [
        "С использованием какой функции активации удалось досчить наибольшей `accuracy`?"
      ]
    },
    {
      "cell_type": "code",
      "execution_count": null,
      "metadata": {
        "id": "5SaqWhlkjuO3"
      },
      "outputs": [],
      "source": []
    },
    {
      "cell_type": "markdown",
      "metadata": {
        "id": "20Ls3Bfsifqd"
      },
      "source": [
        "### Задание 6. Другие оптимизаторы\n",
        "\n",
        "**4** балла\n",
        "\n",
        "Исследуйте влияние оптимизаторов на скорость обучения и точность предсказаний модели.\n",
        "\n",
        "Попробуйте следующие:\n",
        "\n",
        "* [Adam](https://pytorch.org/docs/stable/generated/torch.optim.Adam.html#torch.optim.Adam)\n",
        "* [RMSprop](https://pytorch.org/docs/stable/generated/torch.optim.RMSprop.html#torch.optim.RMSprop)\n",
        "* [Adagrad](https://pytorch.org/docs/stable/generated/torch.optim.Adagrad.html#torch.optim.Adagrad)\n",
        "\n",
        "Вам нужно снова обучить 3 модели и сравнить их перформанс (функцию активации используйте ту, которая показала себя лучше всего)."
      ]
    },
    {
      "cell_type": "code",
      "execution_count": null,
      "metadata": {
        "id": "rzL2LdA-ifJh"
      },
      "outputs": [],
      "source": []
    },
    {
      "cell_type": "markdown",
      "metadata": {
        "id": "eHA48PsperxS"
      },
      "source": [
        "### Задание 7. Реализация ReLU\n",
        "\n",
        "**4** балла\n",
        "\n",
        "Самостоятельно реализуйте функцию активации ReLU.\n",
        "Замените в уже обученной модели функцию активации на вашу. Убедитесь что ничего не изменилась."
      ]
    },
    {
      "cell_type": "code",
      "execution_count": null,
      "metadata": {
        "id": "63uTkUp-a2xr"
      },
      "outputs": [],
      "source": [
        "class CustomReLU(nn.Module):     \n",
        "    def __init__(self):\n",
        "        super().__init__()\n",
        "\n",
        "    def forward(self, x):\n",
        "        # YOUR CODE HERE\n",
        "        # если элемент x < 0, то 0, если >= 0, то x\n",
        "\n",
        "        return x"
      ]
    },
    {
      "cell_type": "markdown",
      "metadata": {
        "id": "xsKzxa33fhbN"
      },
      "source": [
        "Заново обучите модель и проверьте правильность реализации `CustomReLU`."
      ]
    },
    {
      "cell_type": "code",
      "execution_count": null,
      "metadata": {
        "id": "ePP55RBeecYh"
      },
      "outputs": [],
      "source": []
    },
    {
      "cell_type": "markdown",
      "metadata": {
        "id": "vWBG1mMwgN17"
      },
      "source": [
        "### Задание 8. Генерация картинок\n",
        "\n",
        "**3** балла\n",
        "\n",
        "Так как вы снова работаете в командах, то придумайте 3 предложения и сгенерируйте при помощи них 3 картинки, используя телеграм бота [ruDALLE](https://t.me/sber_rudalle_xl_bot). Прикрепите сюда ваши картины."
      ]
    },
    {
      "cell_type": "code",
      "execution_count": null,
      "metadata": {
        "id": "hlqgll9qecdZ"
      },
      "outputs": [],
      "source": []
    }
  ],
  "metadata": {
    "colab": {
      "provenance": []
    },
    "kernelspec": {
      "display_name": "Python 3 (ipykernel)",
      "language": "python",
      "name": "python3"
    },
    "language_info": {
      "codemirror_mode": {
        "name": "ipython",
        "version": 3
      },
      "file_extension": ".py",
      "mimetype": "text/x-python",
      "name": "python",
      "nbconvert_exporter": "python",
      "pygments_lexer": "ipython3",
      "version": "3.9.12"
    }
  },
  "nbformat": 4,
  "nbformat_minor": 0
}